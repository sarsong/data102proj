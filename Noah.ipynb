{
 "cells": [
  {
   "cell_type": "code",
   "execution_count": 63,
   "id": "ae1e59c5-cba2-434d-b643-d2c939381a5d",
   "metadata": {},
   "outputs": [],
   "source": [
    "import pandas as pd\n",
    "import numpy as np\n",
    "import seaborn as sns\n",
    "import warnings\n",
    "import matplotlib.pyplot as plt\n",
    "\n",
    "warnings.filterwarnings(\"ignore\")"
   ]
  },
  {
   "cell_type": "code",
   "execution_count": 64,
   "id": "b7065c06-b872-43ad-a95a-cea21835ce05",
   "metadata": {},
   "outputs": [
    {
     "data": {
      "text/plain": [
       "Index(['Candidate', 'Gender', 'Race 1', 'Race 2', 'Race 3', 'Incumbent',\n",
       "       'Incumbent Challenger', 'State', 'Primary Date', 'Office', 'District',\n",
       "       'Primary Votes', 'Primary %', 'Primary Outcome', 'Runoff Votes',\n",
       "       'Runoff %', 'Runoff Outcome', 'EMILY's List', 'Justice Dems',\n",
       "       'Indivisible', 'PCCC', 'Our Revolution', 'Sunrise', 'Sanders', 'AOC',\n",
       "       'Party Committee'],\n",
       "      dtype='object')"
      ]
     },
     "execution_count": 64,
     "metadata": {},
     "output_type": "execute_result"
    }
   ],
   "source": [
    "dems = pd.read_csv('data/fivethirtyeight/dem_candidates.csv')\n",
    "reps = pd.read_csv('data/fivethirtyeight/rep_candidates.csv', encoding = 'ISO-8859-1')\n",
    "dems.columns"
   ]
  },
  {
   "cell_type": "code",
   "execution_count": 73,
   "id": "6b53ffab-890e-498c-94de-30113061d1b0",
   "metadata": {},
   "outputs": [],
   "source": [
    "dems['District'] = dems['District'].replace('At-Large', '1')\n",
    "reps['District'] = reps['District'].replace('At-Large', '1')"
   ]
  },
  {
   "cell_type": "code",
   "execution_count": 66,
   "id": "e0068e80-c47d-4257-87ca-296b7d9c2463",
   "metadata": {},
   "outputs": [
    {
     "data": {
      "text/plain": [
       "1     96\n",
       "2     77\n",
       "4     67\n",
       "3     66\n",
       "10    50\n",
       "6     48\n",
       "7     46\n",
       "5     44\n",
       "8     36\n",
       "13    28\n",
       "12    25\n",
       "11    23\n",
       "9     23\n",
       "15    18\n",
       "17    15\n",
       "14    14\n",
       "16    13\n",
       "30    12\n",
       "23    11\n",
       "21    11\n",
       "27     9\n",
       "34     9\n",
       "37     9\n",
       "20     8\n",
       "24     7\n",
       "28     7\n",
       "22     7\n",
       "42     6\n",
       "32     6\n",
       "35     6\n",
       "18     6\n",
       "19     5\n",
       "25     4\n",
       "26     4\n",
       "38     4\n",
       "33     3\n",
       "36     3\n",
       "29     3\n",
       "31     2\n",
       "41     2\n",
       "43     2\n",
       "44     2\n",
       "46     2\n",
       "48     2\n",
       "49     2\n",
       "50     2\n",
       "52     2\n",
       "39     1\n",
       "40     1\n",
       "45     1\n",
       "47     1\n",
       "51     1\n",
       "Name: District, dtype: int64"
      ]
     },
     "execution_count": 66,
     "metadata": {},
     "output_type": "execute_result"
    }
   ],
   "source": [
    "dems['District'].value_counts()"
   ]
  },
  {
   "cell_type": "code",
   "execution_count": 74,
   "id": "1762483f-3dfa-4ab8-b952-572836961015",
   "metadata": {},
   "outputs": [
    {
     "data": {
      "text/plain": [
       "0     [Alabama1, Alabama2, Alabama3, Alabama4, Alaba...\n",
       "1                                             [Alaska1]\n",
       "2     [Arizona1, Arizona2, Arizona3, Arizona4, Arizo...\n",
       "3          [Arkansas1, Arkansas2, Arkansas3, Arkansas4]\n",
       "4     [California1, California2, California3, Califo...\n",
       "5     [Colorado1, Colorado2, Colorado3, Colorado4, C...\n",
       "6     [Connecticut1, Connecticut2, Connecticut3, Con...\n",
       "7                                           [Delaware1]\n",
       "8     [Florida1, Florida2, Florida3, Florida4, Flori...\n",
       "9     [Georgia1, Georgia2, Georgia3, Georgia4, Georg...\n",
       "10                                   [Hawaii1, Hawaii2]\n",
       "11                                     [Idaho1, Idaho2]\n",
       "12    [Illinois1, Illinois2, Illinois3, Illinois4, I...\n",
       "13    [Indiana1, Indiana2, Indiana3, Indiana4, India...\n",
       "14                         [Iowa1, Iowa2, Iowa3, Iowa4]\n",
       "15                 [Kansas1, Kansas2, Kansas3, Kansas4]\n",
       "16    [Kentucky1, Kentucky2, Kentucky3, Kentucky4, K...\n",
       "17    [Louisiana1, Louisiana2, Louisiana3, Louisiana...\n",
       "18                                     [Maine1, Maine2]\n",
       "19    [Maryland1, Maryland2, Maryland3, Maryland4, M...\n",
       "20    [Massachusetts1, Massachusetts2, Massachusetts...\n",
       "21    [Michigan1, Michigan2, Michigan3, Michigan4, M...\n",
       "22    [Minnesota1, Minnesota2, Minnesota3, Minnesota...\n",
       "23    [Mississippi1, Mississippi2, Mississippi3, Mis...\n",
       "24    [Missouri1, Missouri2, Missouri3, Missouri4, M...\n",
       "25                                 [Montana1, Montana2]\n",
       "26                    [Nebraska1, Nebraska2, Nebraska3]\n",
       "27                 [Nevada1, Nevada2, Nevada3, Nevada4]\n",
       "28                     [New Hampshire1, New Hampshire2]\n",
       "29    [New Jersey1, New Jersey2, New Jersey3, New Je...\n",
       "30              [New Mexico1, New Mexico2, New Mexico3]\n",
       "31    [New York1, New York2, New York3, New York4, N...\n",
       "32    [North Carolina1, North Carolina2, North Carol...\n",
       "33                                      [North Dakota1]\n",
       "34    [Ohio1, Ohio2, Ohio3, Ohio4, Ohio5, Ohio6, Ohi...\n",
       "35    [Oklahoma1, Oklahoma2, Oklahoma3, Oklahoma4, O...\n",
       "36    [Oregon1, Oregon2, Oregon3, Oregon4, Oregon5, ...\n",
       "37    [Pennsylvania1, Pennsylvania2, Pennsylvania3, ...\n",
       "38                       [Rhode Island1, Rhode Island2]\n",
       "39    [South Carolina1, South Carolina2, South Carol...\n",
       "40                                      [South Dakota1]\n",
       "41    [Tennessee1, Tennessee2, Tennessee3, Tennessee...\n",
       "42    [Texas1, Texas2, Texas3, Texas4, Texas5, Texas...\n",
       "43                         [Utah1, Utah2, Utah3, Utah4]\n",
       "44                                           [Vermont1]\n",
       "45    [Virginia1, Virginia2, Virginia3, Virginia4, V...\n",
       "46    [Washington1, Washington2, Washington3, Washin...\n",
       "47                     [West Virginia1, West Virginia2]\n",
       "48    [Wisconsin1, Wisconsin2, Wisconsin3, Wisconsin...\n",
       "49                                           [Wyoming1]\n",
       "dtype: object"
      ]
     },
     "execution_count": 74,
     "metadata": {},
     "output_type": "execute_result"
    }
   ],
   "source": [
    "districts = pd.read_csv('data/districts.csv')\n",
    "\n",
    "districts\n",
    "\n",
    "def make_list(row):\n",
    "    return [row.State + str(i) for i in np.arange(1, row['# Districts'] + 1)]\n",
    "\n",
    "nested = districts.apply(make_list, axis=1)\n",
    "nested"
   ]
  },
  {
   "cell_type": "code",
   "execution_count": 68,
   "id": "3ba97013-3b45-4d58-b486-d199c0610fff",
   "metadata": {},
   "outputs": [],
   "source": [
    "dems['IncumbentBin'] = dems['Incumbent'].map({'No': 0, 'Yes': 1})\n",
    "reps['IncumbentBin'] = reps['Incumbent'].map({'No': 0, 'Yes': 1})\n",
    "dems['Fullname'] = dems['State'] + dems['District']\n",
    "reps['Fullname'] = reps['State'] + reps['District']\n",
    "\n",
    "demincdists = dems[dems['Incumbent'] == 'Yes']['Fullname'].unique()\n",
    "demchadists = dems[dems['Incumbent'] == 'No']['Fullname'].unique()\n",
    "\n",
    "repincdists = reps[reps['Incumbent'] == 'Yes']['Fullname'].unique()\n",
    "repchadists = reps[reps['Incumbent'] == 'No']['Fullname'].unique()\n",
    "\n",
    "demincs = dems[dems['Fullname'].isin(demincdists)]\n",
    "demchas = dems[dems['Fullname'].isin(demchadists)]\n",
    "\n",
    "repincs = reps[reps['Fullname'].isin(repincdists)]\n",
    "repchas = reps[reps['Fullname'].isin(repchadists)]\n",
    "\n",
    "deminccounts = demincs[['Fullname', 'Candidate']].groupby('Fullname').count()\n",
    "demchacounts = demchas[['Fullname', 'Candidate']].groupby('Fullname').count()\n",
    "deminccounts['Type'] = 'Incumbent'\n",
    "demchacounts['Type'] = 'Challenger'\n",
    "\n",
    "demalls = pd.concat([deminccounts, demchacounts]).reset_index()\n",
    "demalls['Party'] = 'Democratic'\n",
    "\n",
    "repinccounts = repincs[['Fullname', 'Candidate']].groupby('Fullname').count()\n",
    "repchacounts = repchas[['Fullname', 'Candidate']].groupby('Fullname').count()\n",
    "repinccounts['Type'] = 'Incumbent'\n",
    "repchacounts['Type'] = 'Challenger'\n",
    "\n",
    "repalls = pd.concat([repinccounts, repchacounts]).reset_index()\n",
    "repalls['Party'] = 'Republican'\n",
    "\n",
    "alls = pd.concat([demalls, repalls])\n",
    "alls = alls.reset_index()\n",
    "alls\n",
    "\n",
    "incs = alls[alls['Type'] == 'Incumbent']\n",
    "chas = alls[alls['Type'] == 'Challenger']"
   ]
  },
  {
   "cell_type": "code",
   "execution_count": 69,
   "id": "ca4a9f39-5f52-41d6-8436-cf4b19c20a21",
   "metadata": {},
   "outputs": [
    {
     "data": {
      "image/png": "[encoded data removed]",
      "text/plain": [
       "<Figure size 432x288 with 1 Axes>"
      ]
     },
     "metadata": {
      "needs_background": "light"
     },
     "output_type": "display_data"
    }
   ],
   "source": [
    "bins = np.arange(0, 18)\n",
    "\n",
    "sns.histplot(incs, x='Candidate', stat='density', bins=bins, palette='tab10', alpha=0.5, kde=True, color='blue', label='Incumbent')\n",
    "sns.histplot(chas, x='Candidate', stat='density', bins=bins, palette='tab10', alpha=0.5, kde=True, color='red', label='Challenger')\n",
    "plt.legend();"
   ]
  },
  {
   "cell_type": "code",
   "execution_count": 58,
   "id": "631f9c4b-4f84-4a5a-a17f-fc891e3aedd8",
   "metadata": {},
   "outputs": [
    {
     "data": {
      "text/html": [
       "<div>\n",
       "<style scoped>\n",
       "    .dataframe tbody tr th:only-of-type {\n",
       "        vertical-align: middle;\n",
       "    }\n",
       "\n",
       "    .dataframe tbody tr th {\n",
       "        vertical-align: top;\n",
       "    }\n",
       "\n",
       "    .dataframe thead th {\n",
       "        text-align: right;\n",
       "    }\n",
       "</style>\n",
       "<table border=\"1\" class=\"dataframe\">\n",
       "  <thead>\n",
       "    <tr style=\"text-align: right;\">\n",
       "      <th></th>\n",
       "      <th>Fullname</th>\n",
       "      <th>Candidate</th>\n",
       "      <th>Type</th>\n",
       "    </tr>\n",
       "  </thead>\n",
       "  <tbody>\n",
       "    <tr>\n",
       "      <th>0</th>\n",
       "      <td>Alabama1</td>\n",
       "      <td>1</td>\n",
       "      <td>Incumbent</td>\n",
       "    </tr>\n",
       "    <tr>\n",
       "      <th>1</th>\n",
       "      <td>Alabama2</td>\n",
       "      <td>3</td>\n",
       "      <td>Incumbent</td>\n",
       "    </tr>\n",
       "    <tr>\n",
       "      <th>2</th>\n",
       "      <td>Alabama3</td>\n",
       "      <td>3</td>\n",
       "      <td>Incumbent</td>\n",
       "    </tr>\n",
       "    <tr>\n",
       "      <th>3</th>\n",
       "      <td>Alabama4</td>\n",
       "      <td>3</td>\n",
       "      <td>Incumbent</td>\n",
       "    </tr>\n",
       "    <tr>\n",
       "      <th>4</th>\n",
       "      <td>Alabama6</td>\n",
       "      <td>1</td>\n",
       "      <td>Incumbent</td>\n",
       "    </tr>\n",
       "    <tr>\n",
       "      <th>...</th>\n",
       "      <td>...</td>\n",
       "      <td>...</td>\n",
       "      <td>...</td>\n",
       "    </tr>\n",
       "    <tr>\n",
       "      <th>777</th>\n",
       "      <td>Wisconsin5</td>\n",
       "      <td>2</td>\n",
       "      <td>Challenger</td>\n",
       "    </tr>\n",
       "    <tr>\n",
       "      <th>778</th>\n",
       "      <td>Wisconsin6</td>\n",
       "      <td>2</td>\n",
       "      <td>Challenger</td>\n",
       "    </tr>\n",
       "    <tr>\n",
       "      <th>779</th>\n",
       "      <td>Wisconsin7</td>\n",
       "      <td>3</td>\n",
       "      <td>Challenger</td>\n",
       "    </tr>\n",
       "    <tr>\n",
       "      <th>780</th>\n",
       "      <td>Wisconsin8</td>\n",
       "      <td>2</td>\n",
       "      <td>Challenger</td>\n",
       "    </tr>\n",
       "    <tr>\n",
       "      <th>781</th>\n",
       "      <td>WyomingAt-Large</td>\n",
       "      <td>8</td>\n",
       "      <td>Challenger</td>\n",
       "    </tr>\n",
       "  </tbody>\n",
       "</table>\n",
       "<p>782 rows × 3 columns</p>\n",
       "</div>"
      ],
      "text/plain": [
       "            Fullname  Candidate        Type\n",
       "0           Alabama1          1   Incumbent\n",
       "1           Alabama2          3   Incumbent\n",
       "2           Alabama3          3   Incumbent\n",
       "3           Alabama4          3   Incumbent\n",
       "4           Alabama6          1   Incumbent\n",
       "..               ...        ...         ...\n",
       "777       Wisconsin5          2  Challenger\n",
       "778       Wisconsin6          2  Challenger\n",
       "779       Wisconsin7          3  Challenger\n",
       "780       Wisconsin8          2  Challenger\n",
       "781  WyomingAt-Large          8  Challenger\n",
       "\n",
       "[782 rows x 3 columns]"
      ]
     },
     "execution_count": 58,
     "metadata": {},
     "output_type": "execute_result"
    }
   ],
   "source": [
    "allcounts"
   ]
  },
  {
   "cell_type": "code",
   "execution_count": null,
   "id": "785e8421-1136-4358-862b-7b5f084549c4",
   "metadata": {},
   "outputs": [],
   "source": []
  }
 ],
 "metadata": {
  "kernelspec": {
   "display_name": "Python 3 (ipykernel)",
   "language": "python",
   "name": "python3"
  },
  "language_info": {
   "codemirror_mode": {
    "name": "ipython",
    "version": 3
   },
   "file_extension": ".py",
   "mimetype": "text/x-python",
   "name": "python",
   "nbconvert_exporter": "python",
   "pygments_lexer": "ipython3",
   "version": "3.9.7"
  }
 },
 "nbformat": 4,
 "nbformat_minor": 5
}
