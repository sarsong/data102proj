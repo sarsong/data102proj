{
 "cells": [
  {
   "cell_type": "code",
   "execution_count": 25,
   "id": "ae1e59c5-cba2-434d-b643-d2c939381a5d",
   "metadata": {},
   "outputs": [],
   "source": [
    "import pandas as pd\n",
    "import numpy as np\n",
    "import seaborn as sns\n",
    "import warnings\n",
    "import matplotlib.pyplot as plt\n",
    "\n",
    "warnings.filterwarnings(\"ignore\")"
   ]
  },
  {
   "cell_type": "code",
   "execution_count": 47,
   "id": "b7065c06-b872-43ad-a95a-cea21835ce05",
   "metadata": {},
   "outputs": [],
   "source": [
    "dems = pd.read_csv('data/fivethirtyeight/dem_candidates.csv')\n",
    "reps = pd.read_csv('data/fivethirtyeight/rep_candidates.csv', encoding = 'ISO-8859-1')\n",
    "dems = dems[dems['Office'] == 'Representative']\n",
    "reps = reps[reps['Office'] == 'Representative']"
   ]
  },
  {
   "cell_type": "code",
   "execution_count": 48,
   "id": "6b53ffab-890e-498c-94de-30113061d1b0",
   "metadata": {},
   "outputs": [],
   "source": [
    "dems['District'] = dems['District'].replace('At-Large', '1')\n",
    "reps['District'] = reps['District'].replace('At-Large', '1')\n",
    "\n",
    "dems['Fullname'] = dems['State'] + dems['District']\n",
    "reps['Fullname'] = reps['State'] + reps['District']"
   ]
  },
  {
   "cell_type": "code",
   "execution_count": 49,
   "id": "1762483f-3dfa-4ab8-b952-572836961015",
   "metadata": {},
   "outputs": [],
   "source": [
    "districts = pd.read_csv('data/districts.csv')\n",
    "\n",
    "def make_list(row):\n",
    "    return [row.State + str(i) for i in np.arange(1, row['# Districts'] + 1)]\n",
    "\n",
    "nested = districts.apply(make_list, axis=1)\n",
    "unnested = sum(nested, [])"
   ]
  },
  {
   "cell_type": "code",
   "execution_count": 84,
   "id": "3ba97013-3b45-4d58-b486-d199c0610fff",
   "metadata": {},
   "outputs": [],
   "source": [
    "demincdists = dems[dems['Incumbent'] == 'Yes']['Fullname'].unique()\n",
    "demchadists = dems[~dems['Fullname'].isin(demincdists)]['Fullname'].unique()\n",
    "\n",
    "repincdists = reps[reps['Incumbent'] == 'Yes']['Fullname'].unique()\n",
    "repchadists = reps[~reps['Fullname'].isin(repincdists)]['Fullname'].unique()\n",
    "\n",
    "demincs = dems[dems['Fullname'].isin(demincdists)]\n",
    "demchas = dems[dems['Fullname'].isin(demchadists)]\n",
    "\n",
    "repincs = reps[reps['Fullname'].isin(repincdists)]\n",
    "repchas = reps[reps['Fullname'].isin(repchadists)]\n",
    "\n",
    "deminccounts = demincs[['Fullname', 'Candidate']].groupby('Fullname').count()\n",
    "demchacounts = demchas[['Fullname', 'Candidate']].groupby('Fullname').count()\n",
    "deminccounts['Type'] = 'Incumbent'\n",
    "demchacounts['Type'] = 'Non-incumbent'\n",
    "\n",
    "demalls = pd.concat([deminccounts, demchacounts]).reset_index()\n",
    "demalls['Party'] = 'Democratic'\n",
    "\n",
    "repinccounts = repincs[['Fullname', 'Candidate']].groupby('Fullname').count()\n",
    "repchacounts = repchas[['Fullname', 'Candidate']].groupby('Fullname').count()\n",
    "repinccounts['Type'] = 'Incumbent'\n",
    "repchacounts['Type'] = 'Non-incumbent'\n",
    "\n",
    "repalls = pd.concat([repinccounts, repchacounts]).reset_index()\n",
    "repalls['Party'] = 'Republican'\n",
    "\n",
    "alls = pd.concat([demalls, repalls])\n",
    "alls = alls.reset_index()\n",
    "alls\n",
    "\n",
    "incs = alls[alls['Type'] == 'Incumbent']\n",
    "chas = alls[alls['Type'] == 'Non-incumbent']"
   ]
  },
  {
   "cell_type": "code",
   "execution_count": 85,
   "id": "ca4a9f39-5f52-41d6-8436-cf4b19c20a21",
   "metadata": {},
   "outputs": [
    {
     "data": {
      "image/png": "[encoded data removed]",
      "text/plain": [
       "<Figure size 648x432 with 1 Axes>"
      ]
     },
     "metadata": {
      "needs_background": "light"
     },
     "output_type": "display_data"
    }
   ],
   "source": [
    "bins = np.arange(0, 18)\n",
    "ticks = np.arange(0, 18)\n",
    "plt.figure(figsize=[9, 6])\n",
    "sns.histplot(incs, x='Candidate', stat='density', bins=bins, palette='tab10', alpha=0.5, kde=True, color='blue', label='Incumbent')\n",
    "sns.histplot(chas, x='Candidate', stat='density', bins=bins, palette='tab10', alpha=0.5, kde=True, color='red', label='Non-incumbent')\n",
    "plt.legend()\n",
    "plt.title('Distributions of # of candidates among primaries involving incumbents vs. primaries without incumbents')\n",
    "plt.xlabel('# of candidates')\n",
    "plt.xticks(ticks);"
   ]
  },
  {
   "cell_type": "code",
   "execution_count": 99,
   "id": "631f9c4b-4f84-4a5a-a17f-fc891e3aedd8",
   "metadata": {},
   "outputs": [
    {
     "data": {
      "text/plain": [
       "369"
      ]
     },
     "execution_count": 99,
     "metadata": {},
     "output_type": "execute_result"
    }
   ],
   "source": [
    "len(incs.Fullname)"
   ]
  },
  {
   "cell_type": "code",
   "execution_count": 87,
   "id": "785e8421-1136-4358-862b-7b5f084549c4",
   "metadata": {},
   "outputs": [
    {
     "data": {
      "text/html": [
       "<div>\n",
       "<style scoped>\n",
       "    .dataframe tbody tr th:only-of-type {\n",
       "        vertical-align: middle;\n",
       "    }\n",
       "\n",
       "    .dataframe tbody tr th {\n",
       "        vertical-align: top;\n",
       "    }\n",
       "\n",
       "    .dataframe thead th {\n",
       "        text-align: right;\n",
       "    }\n",
       "</style>\n",
       "<table border=\"1\" class=\"dataframe\">\n",
       "  <thead>\n",
       "    <tr style=\"text-align: right;\">\n",
       "      <th></th>\n",
       "      <th>index</th>\n",
       "      <th>Fullname</th>\n",
       "      <th>Candidate</th>\n",
       "      <th>Type</th>\n",
       "      <th>Party</th>\n",
       "    </tr>\n",
       "  </thead>\n",
       "  <tbody>\n",
       "    <tr>\n",
       "      <th>52</th>\n",
       "      <td>52</td>\n",
       "      <td>Florida2</td>\n",
       "      <td>1</td>\n",
       "      <td>Incumbent</td>\n",
       "      <td>Democratic</td>\n",
       "    </tr>\n",
       "    <tr>\n",
       "      <th>440</th>\n",
       "      <td>33</td>\n",
       "      <td>Florida2</td>\n",
       "      <td>1</td>\n",
       "      <td>Incumbent</td>\n",
       "      <td>Republican</td>\n",
       "    </tr>\n",
       "  </tbody>\n",
       "</table>\n",
       "</div>"
      ],
      "text/plain": [
       "     index  Fullname  Candidate       Type       Party\n",
       "52      52  Florida2          1  Incumbent  Democratic\n",
       "440     33  Florida2          1  Incumbent  Republican"
      ]
     },
     "execution_count": 87,
     "metadata": {},
     "output_type": "execute_result"
    }
   ],
   "source": [
    "incs[incs.Fullname == 'Florida2']"
   ]
  },
  {
   "cell_type": "code",
   "execution_count": 100,
   "id": "b27831cd-51b2-461a-9044-c9f14b9f22f0",
   "metadata": {},
   "outputs": [
    {
     "data": {
      "text/plain": [
       "461"
      ]
     },
     "execution_count": 100,
     "metadata": {},
     "output_type": "execute_result"
    }
   ],
   "source": [
    "len(chas.Fullname)"
   ]
  },
  {
   "cell_type": "code",
   "execution_count": 101,
   "id": "20f8fcb6-6265-45c2-836f-1c5cc06e5115",
   "metadata": {},
   "outputs": [
    {
     "data": {
      "text/plain": [
       "830"
      ]
     },
     "execution_count": 101,
     "metadata": {},
     "output_type": "execute_result"
    }
   ],
   "source": [
    "369 + 461"
   ]
  },
  {
   "cell_type": "code",
   "execution_count": 89,
   "id": "d075f79b-c2f8-455d-9c33-263d5e729d88",
   "metadata": {},
   "outputs": [
    {
     "data": {
      "text/plain": [
       "Texas38           2\n",
       "Illinois3         2\n",
       "Michigan10        2\n",
       "Pennsylvania17    2\n",
       "Maryland4         2\n",
       "                 ..\n",
       "Oklahoma5         1\n",
       "Oklahoma4         1\n",
       "Oklahoma3         1\n",
       "Oklahoma1         1\n",
       "Wisconsin4        1\n",
       "Name: Fullname, Length: 400, dtype: int64"
      ]
     },
     "execution_count": 89,
     "metadata": {},
     "output_type": "execute_result"
    }
   ],
   "source": [
    "chas.Fullname.value_counts()"
   ]
  },
  {
   "cell_type": "code",
   "execution_count": 90,
   "id": "44d027e1-8f01-42c7-b6dd-c236c4f42655",
   "metadata": {},
   "outputs": [
    {
     "data": {
      "text/html": [
       "<div>\n",
       "<style scoped>\n",
       "    .dataframe tbody tr th:only-of-type {\n",
       "        vertical-align: middle;\n",
       "    }\n",
       "\n",
       "    .dataframe tbody tr th {\n",
       "        vertical-align: top;\n",
       "    }\n",
       "\n",
       "    .dataframe thead th {\n",
       "        text-align: right;\n",
       "    }\n",
       "</style>\n",
       "<table border=\"1\" class=\"dataframe\">\n",
       "  <thead>\n",
       "    <tr style=\"text-align: right;\">\n",
       "      <th></th>\n",
       "      <th>index</th>\n",
       "      <th>Fullname</th>\n",
       "      <th>Candidate</th>\n",
       "      <th>Type</th>\n",
       "      <th>Party</th>\n",
       "    </tr>\n",
       "  </thead>\n",
       "  <tbody>\n",
       "    <tr>\n",
       "      <th>320</th>\n",
       "      <td>320</td>\n",
       "      <td>North Carolina4</td>\n",
       "      <td>8</td>\n",
       "      <td>Non-incumbent</td>\n",
       "      <td>Democratic</td>\n",
       "    </tr>\n",
       "    <tr>\n",
       "      <th>769</th>\n",
       "      <td>362</td>\n",
       "      <td>North Carolina4</td>\n",
       "      <td>2</td>\n",
       "      <td>Non-incumbent</td>\n",
       "      <td>Republican</td>\n",
       "    </tr>\n",
       "  </tbody>\n",
       "</table>\n",
       "</div>"
      ],
      "text/plain": [
       "     index         Fullname  Candidate           Type       Party\n",
       "320    320  North Carolina4          8  Non-incumbent  Democratic\n",
       "769    362  North Carolina4          2  Non-incumbent  Republican"
      ]
     },
     "execution_count": 90,
     "metadata": {},
     "output_type": "execute_result"
    }
   ],
   "source": [
    "chas[chas.Fullname == 'North Carolina4']"
   ]
  },
  {
   "cell_type": "code",
   "execution_count": 91,
   "id": "d7d53aa6-b1a3-48a9-84ef-269760b92676",
   "metadata": {},
   "outputs": [
    {
     "data": {
      "text/plain": [
       "0        Alabama7\n",
       "1        Arizona2\n",
       "2        Arizona3\n",
       "3        Arizona4\n",
       "4        Arizona7\n",
       "          ...    \n",
       "587    Wisconsin5\n",
       "588    Wisconsin6\n",
       "589    Wisconsin7\n",
       "590    Wisconsin8\n",
       "591      Wyoming1\n",
       "Name: Fullname, Length: 369, dtype: object"
      ]
     },
     "execution_count": 91,
     "metadata": {},
     "output_type": "execute_result"
    }
   ],
   "source": [
    "(incs.Fullname)"
   ]
  },
  {
   "cell_type": "code",
   "execution_count": 92,
   "id": "c187bb95-c7b8-4e0d-aded-becef6abbfac",
   "metadata": {},
   "outputs": [],
   "source": [
    "dc1 = pd.DataFrame(chas.Fullname.value_counts()).reset_index()\n",
    "dc2 = pd.DataFrame(incs.Fullname.value_counts()).reset_index()"
   ]
  },
  {
   "cell_type": "code",
   "execution_count": 94,
   "id": "f433b51c-8107-42ac-9ca9-aa5a08e8aca7",
   "metadata": {},
   "outputs": [
    {
     "data": {
      "text/html": [
       "<div>\n",
       "<style scoped>\n",
       "    .dataframe tbody tr th:only-of-type {\n",
       "        vertical-align: middle;\n",
       "    }\n",
       "\n",
       "    .dataframe tbody tr th {\n",
       "        vertical-align: top;\n",
       "    }\n",
       "\n",
       "    .dataframe thead th {\n",
       "        text-align: right;\n",
       "    }\n",
       "</style>\n",
       "<table border=\"1\" class=\"dataframe\">\n",
       "  <thead>\n",
       "    <tr style=\"text-align: right;\">\n",
       "      <th></th>\n",
       "      <th>index</th>\n",
       "      <th>Fullname_x</th>\n",
       "      <th>Fullname_y</th>\n",
       "    </tr>\n",
       "  </thead>\n",
       "  <tbody>\n",
       "    <tr>\n",
       "      <th>0</th>\n",
       "      <td>Texas38</td>\n",
       "      <td>2</td>\n",
       "      <td>NaN</td>\n",
       "    </tr>\n",
       "    <tr>\n",
       "      <th>1</th>\n",
       "      <td>Illinois3</td>\n",
       "      <td>2</td>\n",
       "      <td>NaN</td>\n",
       "    </tr>\n",
       "    <tr>\n",
       "      <th>2</th>\n",
       "      <td>Michigan10</td>\n",
       "      <td>2</td>\n",
       "      <td>NaN</td>\n",
       "    </tr>\n",
       "    <tr>\n",
       "      <th>3</th>\n",
       "      <td>Pennsylvania17</td>\n",
       "      <td>2</td>\n",
       "      <td>NaN</td>\n",
       "    </tr>\n",
       "    <tr>\n",
       "      <th>4</th>\n",
       "      <td>Maryland4</td>\n",
       "      <td>2</td>\n",
       "      <td>NaN</td>\n",
       "    </tr>\n",
       "    <tr>\n",
       "      <th>...</th>\n",
       "      <td>...</td>\n",
       "      <td>...</td>\n",
       "      <td>...</td>\n",
       "    </tr>\n",
       "    <tr>\n",
       "      <th>395</th>\n",
       "      <td>Oklahoma5</td>\n",
       "      <td>1</td>\n",
       "      <td>1.0</td>\n",
       "    </tr>\n",
       "    <tr>\n",
       "      <th>396</th>\n",
       "      <td>Oklahoma4</td>\n",
       "      <td>1</td>\n",
       "      <td>1.0</td>\n",
       "    </tr>\n",
       "    <tr>\n",
       "      <th>397</th>\n",
       "      <td>Oklahoma3</td>\n",
       "      <td>1</td>\n",
       "      <td>1.0</td>\n",
       "    </tr>\n",
       "    <tr>\n",
       "      <th>398</th>\n",
       "      <td>Oklahoma1</td>\n",
       "      <td>1</td>\n",
       "      <td>1.0</td>\n",
       "    </tr>\n",
       "    <tr>\n",
       "      <th>399</th>\n",
       "      <td>Wisconsin4</td>\n",
       "      <td>1</td>\n",
       "      <td>1.0</td>\n",
       "    </tr>\n",
       "  </tbody>\n",
       "</table>\n",
       "<p>400 rows × 3 columns</p>\n",
       "</div>"
      ],
      "text/plain": [
       "              index  Fullname_x  Fullname_y\n",
       "0           Texas38           2         NaN\n",
       "1         Illinois3           2         NaN\n",
       "2        Michigan10           2         NaN\n",
       "3    Pennsylvania17           2         NaN\n",
       "4         Maryland4           2         NaN\n",
       "..              ...         ...         ...\n",
       "395       Oklahoma5           1         1.0\n",
       "396       Oklahoma4           1         1.0\n",
       "397       Oklahoma3           1         1.0\n",
       "398       Oklahoma1           1         1.0\n",
       "399      Wisconsin4           1         1.0\n",
       "\n",
       "[400 rows x 3 columns]"
      ]
     },
     "execution_count": 94,
     "metadata": {},
     "output_type": "execute_result"
    }
   ],
   "source": [
    "dc1.merge(dc2, how='left', on='index')"
   ]
  },
  {
   "cell_type": "code",
   "execution_count": 95,
   "id": "ac56fdee-2ce3-4c9e-98b2-cd30d54718a3",
   "metadata": {},
   "outputs": [
    {
     "data": {
      "text/html": [
       "<div>\n",
       "<style scoped>\n",
       "    .dataframe tbody tr th:only-of-type {\n",
       "        vertical-align: middle;\n",
       "    }\n",
       "\n",
       "    .dataframe tbody tr th {\n",
       "        vertical-align: top;\n",
       "    }\n",
       "\n",
       "    .dataframe thead th {\n",
       "        text-align: right;\n",
       "    }\n",
       "</style>\n",
       "<table border=\"1\" class=\"dataframe\">\n",
       "  <thead>\n",
       "    <tr style=\"text-align: right;\">\n",
       "      <th></th>\n",
       "      <th>Incumbent</th>\n",
       "    </tr>\n",
       "  </thead>\n",
       "  <tbody>\n",
       "    <tr>\n",
       "      <th>981</th>\n",
       "      <td>No</td>\n",
       "    </tr>\n",
       "  </tbody>\n",
       "</table>\n",
       "</div>"
      ],
      "text/plain": [
       "    Incumbent\n",
       "981        No"
      ]
     },
     "execution_count": 95,
     "metadata": {},
     "output_type": "execute_result"
    }
   ],
   "source": [
    "dems[dems.Fullname == 'New York2'][['Incumbent']]"
   ]
  },
  {
   "cell_type": "code",
   "execution_count": 96,
   "id": "fb10cd3f-0446-40d5-ae58-8873fa5d6151",
   "metadata": {},
   "outputs": [
    {
     "data": {
      "text/html": [
       "<div>\n",
       "<style scoped>\n",
       "    .dataframe tbody tr th:only-of-type {\n",
       "        vertical-align: middle;\n",
       "    }\n",
       "\n",
       "    .dataframe tbody tr th {\n",
       "        vertical-align: top;\n",
       "    }\n",
       "\n",
       "    .dataframe thead th {\n",
       "        text-align: right;\n",
       "    }\n",
       "</style>\n",
       "<table border=\"1\" class=\"dataframe\">\n",
       "  <thead>\n",
       "    <tr style=\"text-align: right;\">\n",
       "      <th></th>\n",
       "      <th>Candidate</th>\n",
       "      <th>Gender</th>\n",
       "      <th>Race 1</th>\n",
       "      <th>Race 2</th>\n",
       "      <th>Race 3</th>\n",
       "      <th>Incumbent</th>\n",
       "      <th>Incumbent Challenger</th>\n",
       "      <th>State</th>\n",
       "      <th>Primary Date</th>\n",
       "      <th>Office</th>\n",
       "      <th>...</th>\n",
       "      <th>Trump</th>\n",
       "      <th>Trump Date</th>\n",
       "      <th>Club for Growth</th>\n",
       "      <th>Party Committee</th>\n",
       "      <th>Renew America</th>\n",
       "      <th>E-PAC</th>\n",
       "      <th>VIEW PAC</th>\n",
       "      <th>Maggie's List</th>\n",
       "      <th>Winning for Women</th>\n",
       "      <th>Fullname</th>\n",
       "    </tr>\n",
       "  </thead>\n",
       "  <tbody>\n",
       "    <tr>\n",
       "      <th>1513</th>\n",
       "      <td>Andrew R. Garbarino</td>\n",
       "      <td>Male</td>\n",
       "      <td>White</td>\n",
       "      <td>NaN</td>\n",
       "      <td>NaN</td>\n",
       "      <td>Yes</td>\n",
       "      <td>No</td>\n",
       "      <td>New York</td>\n",
       "      <td>8/23/22</td>\n",
       "      <td>Representative</td>\n",
       "      <td>...</td>\n",
       "      <td>NaN</td>\n",
       "      <td>NaN</td>\n",
       "      <td>NaN</td>\n",
       "      <td>NaN</td>\n",
       "      <td>NaN</td>\n",
       "      <td>NaN</td>\n",
       "      <td>NaN</td>\n",
       "      <td>NaN</td>\n",
       "      <td>NaN</td>\n",
       "      <td>New York2</td>\n",
       "    </tr>\n",
       "    <tr>\n",
       "      <th>1514</th>\n",
       "      <td>Robert Cornicelli</td>\n",
       "      <td>Male</td>\n",
       "      <td>White</td>\n",
       "      <td>NaN</td>\n",
       "      <td>NaN</td>\n",
       "      <td>No</td>\n",
       "      <td>Yes</td>\n",
       "      <td>New York</td>\n",
       "      <td>8/23/22</td>\n",
       "      <td>Representative</td>\n",
       "      <td>...</td>\n",
       "      <td>NaN</td>\n",
       "      <td>NaN</td>\n",
       "      <td>NaN</td>\n",
       "      <td>NaN</td>\n",
       "      <td>NaN</td>\n",
       "      <td>NaN</td>\n",
       "      <td>NaN</td>\n",
       "      <td>NaN</td>\n",
       "      <td>NaN</td>\n",
       "      <td>New York2</td>\n",
       "    </tr>\n",
       "    <tr>\n",
       "      <th>1515</th>\n",
       "      <td>Mike Rakebrandt</td>\n",
       "      <td>Male</td>\n",
       "      <td>White</td>\n",
       "      <td>NaN</td>\n",
       "      <td>NaN</td>\n",
       "      <td>No</td>\n",
       "      <td>Yes</td>\n",
       "      <td>New York</td>\n",
       "      <td>8/23/22</td>\n",
       "      <td>Representative</td>\n",
       "      <td>...</td>\n",
       "      <td>NaN</td>\n",
       "      <td>NaN</td>\n",
       "      <td>NaN</td>\n",
       "      <td>NaN</td>\n",
       "      <td>NaN</td>\n",
       "      <td>NaN</td>\n",
       "      <td>NaN</td>\n",
       "      <td>NaN</td>\n",
       "      <td>NaN</td>\n",
       "      <td>New York2</td>\n",
       "    </tr>\n",
       "  </tbody>\n",
       "</table>\n",
       "<p>3 rows × 28 columns</p>\n",
       "</div>"
      ],
      "text/plain": [
       "                Candidate Gender Race 1 Race 2 Race 3 Incumbent  \\\n",
       "1513  Andrew R. Garbarino   Male  White    NaN    NaN       Yes   \n",
       "1514    Robert Cornicelli   Male  White    NaN    NaN        No   \n",
       "1515      Mike Rakebrandt   Male  White    NaN    NaN        No   \n",
       "\n",
       "     Incumbent Challenger     State Primary Date          Office  ... Trump  \\\n",
       "1513                   No  New York      8/23/22  Representative  ...   NaN   \n",
       "1514                  Yes  New York      8/23/22  Representative  ...   NaN   \n",
       "1515                  Yes  New York      8/23/22  Representative  ...   NaN   \n",
       "\n",
       "     Trump Date Club for Growth Party Committee Renew America E-PAC VIEW PAC  \\\n",
       "1513        NaN             NaN             NaN           NaN   NaN      NaN   \n",
       "1514        NaN             NaN             NaN           NaN   NaN      NaN   \n",
       "1515        NaN             NaN             NaN           NaN   NaN      NaN   \n",
       "\n",
       "     Maggie's List Winning for Women   Fullname  \n",
       "1513           NaN               NaN  New York2  \n",
       "1514           NaN               NaN  New York2  \n",
       "1515           NaN               NaN  New York2  \n",
       "\n",
       "[3 rows x 28 columns]"
      ]
     },
     "execution_count": 96,
     "metadata": {},
     "output_type": "execute_result"
    }
   ],
   "source": [
    "reps[reps.Fullname == 'New York2']"
   ]
  },
  {
   "cell_type": "code",
   "execution_count": 97,
   "id": "ce46eb7b-040b-4b7d-973b-b433efde80db",
   "metadata": {},
   "outputs": [
    {
     "data": {
      "text/html": [
       "<div>\n",
       "<style scoped>\n",
       "    .dataframe tbody tr th:only-of-type {\n",
       "        vertical-align: middle;\n",
       "    }\n",
       "\n",
       "    .dataframe tbody tr th {\n",
       "        vertical-align: top;\n",
       "    }\n",
       "\n",
       "    .dataframe thead th {\n",
       "        text-align: right;\n",
       "    }\n",
       "</style>\n",
       "<table border=\"1\" class=\"dataframe\">\n",
       "  <thead>\n",
       "    <tr style=\"text-align: right;\">\n",
       "      <th></th>\n",
       "      <th>index</th>\n",
       "      <th>Fullname</th>\n",
       "      <th>Candidate</th>\n",
       "      <th>Type</th>\n",
       "      <th>Party</th>\n",
       "    </tr>\n",
       "  </thead>\n",
       "  <tbody>\n",
       "    <tr>\n",
       "      <th>504</th>\n",
       "      <td>97</td>\n",
       "      <td>New York2</td>\n",
       "      <td>3</td>\n",
       "      <td>Incumbent</td>\n",
       "      <td>Republican</td>\n",
       "    </tr>\n",
       "  </tbody>\n",
       "</table>\n",
       "</div>"
      ],
      "text/plain": [
       "     index   Fullname  Candidate       Type       Party\n",
       "504     97  New York2          3  Incumbent  Republican"
      ]
     },
     "execution_count": 97,
     "metadata": {},
     "output_type": "execute_result"
    }
   ],
   "source": [
    "incs[incs.Fullname == 'New York2']"
   ]
  },
  {
   "cell_type": "code",
   "execution_count": 98,
   "id": "9bd668fc-a4b5-4956-aa7c-2df2aed216aa",
   "metadata": {},
   "outputs": [
    {
     "data": {
      "text/html": [
       "<div>\n",
       "<style scoped>\n",
       "    .dataframe tbody tr th:only-of-type {\n",
       "        vertical-align: middle;\n",
       "    }\n",
       "\n",
       "    .dataframe tbody tr th {\n",
       "        vertical-align: top;\n",
       "    }\n",
       "\n",
       "    .dataframe thead th {\n",
       "        text-align: right;\n",
       "    }\n",
       "</style>\n",
       "<table border=\"1\" class=\"dataframe\">\n",
       "  <thead>\n",
       "    <tr style=\"text-align: right;\">\n",
       "      <th></th>\n",
       "      <th>index</th>\n",
       "      <th>Fullname</th>\n",
       "      <th>Candidate</th>\n",
       "      <th>Type</th>\n",
       "      <th>Party</th>\n",
       "    </tr>\n",
       "  </thead>\n",
       "  <tbody>\n",
       "    <tr>\n",
       "      <th>307</th>\n",
       "      <td>307</td>\n",
       "      <td>New York2</td>\n",
       "      <td>1</td>\n",
       "      <td>Non-incumbent</td>\n",
       "      <td>Democratic</td>\n",
       "    </tr>\n",
       "  </tbody>\n",
       "</table>\n",
       "</div>"
      ],
      "text/plain": [
       "     index   Fullname  Candidate           Type       Party\n",
       "307    307  New York2          1  Non-incumbent  Democratic"
      ]
     },
     "execution_count": 98,
     "metadata": {},
     "output_type": "execute_result"
    }
   ],
   "source": [
    "chas[chas.Fullname == 'New York2']"
   ]
  },
  {
   "cell_type": "code",
   "execution_count": null,
   "id": "d04df469-7df9-4650-96bf-f8e069034abd",
   "metadata": {},
   "outputs": [],
   "source": []
  }
 ],
 "metadata": {
  "kernelspec": {
   "display_name": "Python 3 (ipykernel)",
   "language": "python",
   "name": "python3"
  },
  "language_info": {
   "codemirror_mode": {
    "name": "ipython",
    "version": 3
   },
   "file_extension": ".py",
   "mimetype": "text/x-python",
   "name": "python",
   "nbconvert_exporter": "python",
   "pygments_lexer": "ipython3",
   "version": "3.9.7"
  }
 },
 "nbformat": 4,
 "nbformat_minor": 5
}
