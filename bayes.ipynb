{
 "cells": [
  {
   "cell_type": "code",
   "execution_count": 32,
   "id": "d88e1aba-d34b-4dc5-833e-cd31e9136c4d",
   "metadata": {},
   "outputs": [],
   "source": [
    "import pandas as pd\n",
    "import numpy as np\n",
    "import warnings\n",
    "import pymc as pm\n",
    "import matplotlib.pyplot as plt\n",
    "import seaborn as sns\n",
    "\n",
    "warnings.filterwarnings(\"ignore\")\n",
    "from scipy.stats import beta"
   ]
  },
  {
   "cell_type": "code",
   "execution_count": 3,
   "id": "4e74ec43-8181-4513-bf65-7a230248d90a",
   "metadata": {},
   "outputs": [
    {
     "data": {
      "text/html": [
       "<div>\n",
       "<style scoped>\n",
       "    .dataframe tbody tr th:only-of-type {\n",
       "        vertical-align: middle;\n",
       "    }\n",
       "\n",
       "    .dataframe tbody tr th {\n",
       "        vertical-align: top;\n",
       "    }\n",
       "\n",
       "    .dataframe thead th {\n",
       "        text-align: right;\n",
       "    }\n",
       "</style>\n",
       "<table border=\"1\" class=\"dataframe\">\n",
       "  <thead>\n",
       "    <tr style=\"text-align: right;\">\n",
       "      <th></th>\n",
       "      <th>Geographic Area Name</th>\n",
       "      <th>White %</th>\n",
       "    </tr>\n",
       "  </thead>\n",
       "  <tbody>\n",
       "    <tr>\n",
       "      <th>0</th>\n",
       "      <td>Congressional District 1 (116th Congress), Ala...</td>\n",
       "      <td>68.788556</td>\n",
       "    </tr>\n",
       "    <tr>\n",
       "      <th>1</th>\n",
       "      <td>Congressional District 2 (116th Congress), Ala...</td>\n",
       "      <td>65.555585</td>\n",
       "    </tr>\n",
       "    <tr>\n",
       "      <th>2</th>\n",
       "      <td>Congressional District 3 (116th Congress), Ala...</td>\n",
       "      <td>70.661084</td>\n",
       "    </tr>\n",
       "    <tr>\n",
       "      <th>3</th>\n",
       "      <td>Congressional District 4 (116th Congress), Ala...</td>\n",
       "      <td>89.121779</td>\n",
       "    </tr>\n",
       "    <tr>\n",
       "      <th>4</th>\n",
       "      <td>Congressional District 5 (116th Congress), Ala...</td>\n",
       "      <td>77.641286</td>\n",
       "    </tr>\n",
       "    <tr>\n",
       "      <th>...</th>\n",
       "      <td>...</td>\n",
       "      <td>...</td>\n",
       "    </tr>\n",
       "    <tr>\n",
       "      <th>430</th>\n",
       "      <td>Congressional District 5 (116th Congress), Wis...</td>\n",
       "      <td>92.371545</td>\n",
       "    </tr>\n",
       "    <tr>\n",
       "      <th>431</th>\n",
       "      <td>Congressional District 6 (116th Congress), Wis...</td>\n",
       "      <td>93.842491</td>\n",
       "    </tr>\n",
       "    <tr>\n",
       "      <th>432</th>\n",
       "      <td>Congressional District 7 (116th Congress), Wis...</td>\n",
       "      <td>94.968650</td>\n",
       "    </tr>\n",
       "    <tr>\n",
       "      <th>433</th>\n",
       "      <td>Congressional District 8 (116th Congress), Wis...</td>\n",
       "      <td>91.702048</td>\n",
       "    </tr>\n",
       "    <tr>\n",
       "      <th>434</th>\n",
       "      <td>Congressional District (at Large) (116th Congr...</td>\n",
       "      <td>94.099231</td>\n",
       "    </tr>\n",
       "  </tbody>\n",
       "</table>\n",
       "<p>435 rows × 2 columns</p>\n",
       "</div>"
      ],
      "text/plain": [
       "0                                 Geographic Area Name    White %\n",
       "0    Congressional District 1 (116th Congress), Ala...  68.788556\n",
       "1    Congressional District 2 (116th Congress), Ala...  65.555585\n",
       "2    Congressional District 3 (116th Congress), Ala...  70.661084\n",
       "3    Congressional District 4 (116th Congress), Ala...  89.121779\n",
       "4    Congressional District 5 (116th Congress), Ala...  77.641286\n",
       "..                                                 ...        ...\n",
       "430  Congressional District 5 (116th Congress), Wis...  92.371545\n",
       "431  Congressional District 6 (116th Congress), Wis...  93.842491\n",
       "432  Congressional District 7 (116th Congress), Wis...  94.968650\n",
       "433  Congressional District 8 (116th Congress), Wis...  91.702048\n",
       "434  Congressional District (at Large) (116th Congr...  94.099231\n",
       "\n",
       "[435 rows x 2 columns]"
      ]
     },
     "execution_count": 3,
     "metadata": {},
     "output_type": "execute_result"
    }
   ],
   "source": [
    "demo = pd.read_csv('data/acsreal.csv')\n",
    "demo.columns = demo.loc[0]\n",
    "demo = demo.drop(0)\n",
    "demo['Total'] = np.int64(demo['Estimate!!SEX AND AGE!!Total population']) \n",
    "demo['White'] = np.int64(demo['Estimate!!Race alone or in combination with one or more other races!!Total population!!White'])\n",
    "demo['White %'] = demo['White'] / demo['Total'] * 100\n",
    "demo = demo[demo['Geographic Area Name'].str.contains('not defined')==False]\n",
    "demo = demo[demo['Geographic Area Name'].str.contains('Delegate District')==False]\n",
    "demo = demo[demo['Geographic Area Name'].str.contains('Resident Commissioner') == False]\n",
    "demo = demo[['Geographic Area Name', 'White %']]\n",
    "demo = demo.groupby('Geographic Area Name', sort=False).mean().reset_index()\n",
    "demo\n",
    "#sns.histplot(demo['White %'])"
   ]
  },
  {
   "cell_type": "raw",
   "id": "3a4662b8-6e0f-4a7b-9e10-28e14020f253",
   "metadata": {},
   "source": [
    "alls_dummies = pd.get_dummies(data = alls, columns=['Type'])\n",
    "alls_dummies = alls_dummies.drop('Type_Non-incumbent', axis=1)\n",
    "alls_dummies['Candidate']"
   ]
  },
  {
   "cell_type": "code",
   "execution_count": 4,
   "id": "5fd89141-224d-4921-a015-98f5934ad9d7",
   "metadata": {
    "scrolled": true
   },
   "outputs": [
    {
     "data": {
      "text/html": [
       "<div>\n",
       "<style scoped>\n",
       "    .dataframe tbody tr th:only-of-type {\n",
       "        vertical-align: middle;\n",
       "    }\n",
       "\n",
       "    .dataframe tbody tr th {\n",
       "        vertical-align: top;\n",
       "    }\n",
       "\n",
       "    .dataframe thead th {\n",
       "        text-align: right;\n",
       "    }\n",
       "</style>\n",
       "<table border=\"1\" class=\"dataframe\">\n",
       "  <thead>\n",
       "    <tr style=\"text-align: right;\">\n",
       "      <th></th>\n",
       "      <th>alphaDistrict</th>\n",
       "      <th>Trump</th>\n",
       "      <th>Total</th>\n",
       "      <th>Trump%</th>\n",
       "    </tr>\n",
       "  </thead>\n",
       "  <tbody>\n",
       "    <tr>\n",
       "      <th>1</th>\n",
       "      <td>Alabama-01</td>\n",
       "      <td>211370</td>\n",
       "      <td>331886</td>\n",
       "      <td>63.687531</td>\n",
       "    </tr>\n",
       "    <tr>\n",
       "      <th>2</th>\n",
       "      <td>Alabama-02</td>\n",
       "      <td>195953</td>\n",
       "      <td>306714</td>\n",
       "      <td>63.887856</td>\n",
       "    </tr>\n",
       "    <tr>\n",
       "      <th>3</th>\n",
       "      <td>Alabama-03</td>\n",
       "      <td>212012</td>\n",
       "      <td>324741</td>\n",
       "      <td>65.286490</td>\n",
       "    </tr>\n",
       "    <tr>\n",
       "      <th>4</th>\n",
       "      <td>Alabama-04</td>\n",
       "      <td>260535</td>\n",
       "      <td>320725</td>\n",
       "      <td>81.233144</td>\n",
       "    </tr>\n",
       "    <tr>\n",
       "      <th>5</th>\n",
       "      <td>Alabama-05</td>\n",
       "      <td>228398</td>\n",
       "      <td>364107</td>\n",
       "      <td>62.728264</td>\n",
       "    </tr>\n",
       "    <tr>\n",
       "      <th>...</th>\n",
       "      <td>...</td>\n",
       "      <td>...</td>\n",
       "      <td>...</td>\n",
       "      <td>...</td>\n",
       "    </tr>\n",
       "    <tr>\n",
       "      <th>427</th>\n",
       "      <td>Wisconsin-05</td>\n",
       "      <td>255803</td>\n",
       "      <td>450097</td>\n",
       "      <td>56.832860</td>\n",
       "    </tr>\n",
       "    <tr>\n",
       "      <th>428</th>\n",
       "      <td>Wisconsin-06</td>\n",
       "      <td>232820</td>\n",
       "      <td>409886</td>\n",
       "      <td>56.801159</td>\n",
       "    </tr>\n",
       "    <tr>\n",
       "      <th>429</th>\n",
       "      <td>Wisconsin-07</td>\n",
       "      <td>248822</td>\n",
       "      <td>420340</td>\n",
       "      <td>59.195413</td>\n",
       "    </tr>\n",
       "    <tr>\n",
       "      <th>430</th>\n",
       "      <td>Wisconsin-08</td>\n",
       "      <td>241140</td>\n",
       "      <td>421811</td>\n",
       "      <td>57.167784</td>\n",
       "    </tr>\n",
       "    <tr>\n",
       "      <th>434</th>\n",
       "      <td>Wyoming-at large</td>\n",
       "      <td>193559</td>\n",
       "      <td>275026</td>\n",
       "      <td>70.378437</td>\n",
       "    </tr>\n",
       "  </tbody>\n",
       "</table>\n",
       "<p>435 rows × 4 columns</p>\n",
       "</div>"
      ],
      "text/plain": [
       "        alphaDistrict   Trump   Total     Trump%\n",
       "1          Alabama-01  211370  331886  63.687531\n",
       "2          Alabama-02  195953  306714  63.887856\n",
       "3          Alabama-03  212012  324741  65.286490\n",
       "4          Alabama-04  260535  320725  81.233144\n",
       "5          Alabama-05  228398  364107  62.728264\n",
       "..                ...     ...     ...        ...\n",
       "427      Wisconsin-05  255803  450097  56.832860\n",
       "428      Wisconsin-06  232820  409886  56.801159\n",
       "429      Wisconsin-07  248822  420340  59.195413\n",
       "430      Wisconsin-08  241140  421811  57.167784\n",
       "434  Wyoming-at large  193559  275026  70.378437\n",
       "\n",
       "[435 rows x 4 columns]"
      ]
     },
     "execution_count": 4,
     "metadata": {},
     "output_type": "execute_result"
    }
   ],
   "source": [
    "kos = pd.read_csv('data/dkos.csv')\n",
    "states = {\n",
    "    \"AL\": \"Alabama\",\n",
    "    \"AK\": \"Alaska\",\n",
    "    \"AZ\": \"Arizona\",\n",
    "    \"AR\": \"Arkansas\",\n",
    "    \"CA\": \"California\",\n",
    "    \"CO\": \"Colorado\",\n",
    "    \"CT\": \"Connecticut\",\n",
    "    \"DE\": \"Delaware\",\n",
    "    \"FL\": \"Florida\",\n",
    "    \"GA\": \"Georgia\",\n",
    "    \"HI\": \"Hawaii\",\n",
    "    \"ID\": \"Idaho\",\n",
    "    \"IL\": \"Illinois\",\n",
    "    \"IN\": \"Indiana\",\n",
    "    \"IA\": \"Iowa\",\n",
    "    \"KS\": \"Kansas\",\n",
    "    \"KY\": \"Kentucky\",\n",
    "    \"LA\": \"Louisiana\",\n",
    "    \"ME\": \"Maine\",\n",
    "    \"MD\": \"Maryland\",\n",
    "    \"MA\": \"Massachusetts\",\n",
    "    \"MI\": \"Michigan\",\n",
    "    \"MN\": \"Minnesota\",\n",
    "    \"MS\": \"Mississippi\",\n",
    "    \"MO\": \"Missouri\",\n",
    "    \"MT\": \"Montana\",\n",
    "    \"NE\": \"Nebraska\",\n",
    "    \"NV\": \"Nevada\",\n",
    "    \"NH\": \"New Hampshire\",\n",
    "    \"NJ\": \"New Jersey\",\n",
    "    \"NM\": \"New Mexico\",\n",
    "    \"NY\": \"New York\",\n",
    "    \"NC\": \"North Carolina\",\n",
    "    \"ND\": \"North Dakota\",\n",
    "    \"OH\": \"Ohio\",\n",
    "    \"OK\": \"Oklahoma\",\n",
    "    \"OR\": \"Oregon\",\n",
    "    \"PA\": \"Pennsylvania\",\n",
    "    \"RI\": \"Rhode Island\",\n",
    "    \"SC\": \"South Carolina\",\n",
    "    \"SD\": \"South Dakota\",\n",
    "    \"TN\": \"Tennessee\",\n",
    "    \"TX\": \"Texas\",\n",
    "    \"UT\": \"Utah\",\n",
    "    \"VT\": \"Vermont\",\n",
    "    \"VA\": \"Virginia\",\n",
    "    \"WA\": \"Washington\",\n",
    "    \"WV\": \"West Virginia\",\n",
    "    \"WI\": \"Wisconsin\",\n",
    "    \"WY\": \"Wyoming\",\n",
    "}\n",
    "\n",
    "kos['District'] = kos['District'].str.replace('-AL', '-at large')\n",
    "kos[['State', 'No']] = kos['District'].str.split('-', expand=True)\n",
    "kos['State'] = kos['State'].map(states)\n",
    "kos['alphaDistrict'] = kos['State']+'-'+kos['No']\n",
    "kos = kos[['alphaDistrict', 'Trump', 'Total']]\n",
    "kos['Trump'] = kos['Trump'].str.replace(',','')\n",
    "kos['Total'] = kos['Total'].str.replace(',','')\n",
    "kos['Trump%'] = pd.to_numeric(kos['Trump']) / pd.to_numeric(kos['Total']) * 100\n",
    "kos = kos.sort_values('alphaDistrict', ascending=True)\n",
    "kos"
   ]
  },
  {
   "cell_type": "code",
   "execution_count": 15,
   "id": "1316ffe2-e80e-4cf0-a7b5-acaaabf0fd22",
   "metadata": {},
   "outputs": [
    {
     "data": {
      "text/html": [
       "<div>\n",
       "<style scoped>\n",
       "    .dataframe tbody tr th:only-of-type {\n",
       "        vertical-align: middle;\n",
       "    }\n",
       "\n",
       "    .dataframe tbody tr th {\n",
       "        vertical-align: top;\n",
       "    }\n",
       "\n",
       "    .dataframe thead th {\n",
       "        text-align: right;\n",
       "    }\n",
       "</style>\n",
       "<table border=\"1\" class=\"dataframe\">\n",
       "  <thead>\n",
       "    <tr style=\"text-align: right;\">\n",
       "      <th></th>\n",
       "      <th>alphaDistrict</th>\n",
       "      <th>Trump</th>\n",
       "      <th>Total</th>\n",
       "      <th>Trump%</th>\n",
       "      <th>Geographic Area Name</th>\n",
       "      <th>White %</th>\n",
       "    </tr>\n",
       "  </thead>\n",
       "  <tbody>\n",
       "    <tr>\n",
       "      <th>1</th>\n",
       "      <td>Alabama-01</td>\n",
       "      <td>211370</td>\n",
       "      <td>331886</td>\n",
       "      <td>63.687531</td>\n",
       "      <td>Congressional District 2 (116th Congress), Ala...</td>\n",
       "      <td>65.555585</td>\n",
       "    </tr>\n",
       "    <tr>\n",
       "      <th>2</th>\n",
       "      <td>Alabama-02</td>\n",
       "      <td>195953</td>\n",
       "      <td>306714</td>\n",
       "      <td>63.887856</td>\n",
       "      <td>Congressional District 3 (116th Congress), Ala...</td>\n",
       "      <td>70.661084</td>\n",
       "    </tr>\n",
       "    <tr>\n",
       "      <th>3</th>\n",
       "      <td>Alabama-03</td>\n",
       "      <td>212012</td>\n",
       "      <td>324741</td>\n",
       "      <td>65.286490</td>\n",
       "      <td>Congressional District 4 (116th Congress), Ala...</td>\n",
       "      <td>89.121779</td>\n",
       "    </tr>\n",
       "  </tbody>\n",
       "</table>\n",
       "</div>"
      ],
      "text/plain": [
       "  alphaDistrict   Trump   Total     Trump%  \\\n",
       "1    Alabama-01  211370  331886  63.687531   \n",
       "2    Alabama-02  195953  306714  63.887856   \n",
       "3    Alabama-03  212012  324741  65.286490   \n",
       "\n",
       "                                Geographic Area Name    White %  \n",
       "1  Congressional District 2 (116th Congress), Ala...  65.555585  \n",
       "2  Congressional District 3 (116th Congress), Ala...  70.661084  \n",
       "3  Congressional District 4 (116th Congress), Ala...  89.121779  "
      ]
     },
     "execution_count": 15,
     "metadata": {},
     "output_type": "execute_result"
    }
   ],
   "source": [
    "combined_data = pd.concat([kos,demo], axis=1)\n",
    "combined_data.head(3)"
   ]
  },
  {
   "cell_type": "code",
   "execution_count": 53,
   "id": "f20733bf-96e2-4e3e-a592-5db372ef07b1",
   "metadata": {},
   "outputs": [],
   "source": [
    "not_diverse = combined_data[combined_data['White %'] > combined_data['White %'].median()]\n",
    "diverse = combined_data[combined_data['White %'] <= combined_data['White %'].median()]"
   ]
  },
  {
   "cell_type": "code",
   "execution_count": 55,
   "id": "136f6351-b3dc-49dd-94a6-b576823ab4bb",
   "metadata": {},
   "outputs": [
    {
     "name": "stdout",
     "output_type": "stream",
     "text": [
      "53.56124225443038\n",
      "40.00473263204748\n"
     ]
    },
    {
     "data": {
      "image/png": "[encoded data removed]",
      "text/plain": [
       "<Figure size 640x480 with 1 Axes>"
      ]
     },
     "metadata": {},
     "output_type": "display_data"
    }
   ],
   "source": [
    "print(not_diverse['Trump%'].median())\n",
    "sns.histplot(not_diverse['Trump%'], bins = np.arange(0, 100, 5));\n",
    "print(diverse['Trump%'].median())\n",
    "sns.histplot(diverse['Trump%'], bins = np.arange(0, 100, 5));"
   ]
  },
  {
   "cell_type": "code",
   "execution_count": 56,
   "id": "547c17e8-9df7-4798-b0e9-5d4024b35b65",
   "metadata": {},
   "outputs": [
    {
     "name": "stdout",
     "output_type": "stream",
     "text": [
      "5.705935082541284 5.33223244214401 0 100\n",
      "3.6359660887087832 5.202948949732078 0 100\n"
     ]
    }
   ],
   "source": [
    "a_nd, b_nd, loc_nd, scale_nd = beta.fit(not_diverse['Trump%'], floc=0, fscale=100)\n",
    "print(a_nd, b_nd, loc_nd, scale_nd)\n",
    "\n",
    "a_d, b_d, loc_d, scale_d = beta.fit(diverse['Trump%'], floc=0, fscale=100)\n",
    "print(a_d, b_d, loc_d, scale_d)"
   ]
  },
  {
   "cell_type": "code",
   "execution_count": 60,
   "id": "586a4938-1f09-4a1e-90b8-94f3abb55f3c",
   "metadata": {},
   "outputs": [
    {
     "data": {
      "image/png": "[encoded data removed]",
      "text/plain": [
       "<Figure size 640x480 with 1 Axes>"
      ]
     },
     "metadata": {},
     "output_type": "display_data"
    }
   ],
   "source": [
    "samples_right = beta.rvs(a_nd, b_nd, size=1000) * 100\n",
    "samples_left = beta.rvs(a_d, b_d, size=1000) * 100\n",
    "\n",
    "sns.histplot(samples_right)\n",
    "sns.histplot(samples_left);"
   ]
  },
  {
   "cell_type": "code",
   "execution_count": 6,
   "id": "184e511b-f617-492d-9255-b1fb4518fef8",
   "metadata": {},
   "outputs": [
    {
     "name": "stderr",
     "output_type": "stream",
     "text": [
      "Multiprocess sampling (2 chains in 4 jobs)\n",
      "CompoundStep\n",
      ">NUTS: [c, thetas]\n",
      ">BinaryGibbsMetropolis: [z]\n"
     ]
    },
    {
     "data": {
      "text/html": [
       "\n",
       "<style>\n",
       "    /* Turns off some styling */\n",
       "    progress {\n",
       "        /* gets rid of default border in Firefox and Opera. */\n",
       "        border: none;\n",
       "        /* Needs to be in here for Safari polyfill so background images work as expected. */\n",
       "        background-size: auto;\n",
       "    }\n",
       "    progress:not([value]), progress:not([value])::-webkit-progress-bar {\n",
       "        background: repeating-linear-gradient(45deg, #7e7e7e, #7e7e7e 10px, #5c5c5c 10px, #5c5c5c 20px);\n",
       "    }\n",
       "    .progress-bar-interrupted, .progress-bar-interrupted::-webkit-progress-bar {\n",
       "        background: #F44336;\n",
       "    }\n",
       "</style>\n"
      ],
      "text/plain": [
       "<IPython.core.display.HTML object>"
      ]
     },
     "metadata": {},
     "output_type": "display_data"
    },
    {
     "data": {
      "text/html": [
       "\n",
       "    <div>\n",
       "      <progress value='4000' class='' max='4000' style='width:300px; height:20px; vertical-align: middle;'></progress>\n",
       "      100.00% [4000/4000 00:48&lt;00:00 Sampling 2 chains, 0 divergences]\n",
       "    </div>\n",
       "    "
      ],
      "text/plain": [
       "<IPython.core.display.HTML object>"
      ]
     },
     "metadata": {},
     "output_type": "display_data"
    },
    {
     "name": "stderr",
     "output_type": "stream",
     "text": [
      "Sampling 2 chains for 1_000 tune and 1_000 draw iterations (2_000 + 2_000 draws total) took 48 seconds.\n",
      "We recommend running at least 4 chains for robust computation of convergence diagnostics\n"
     ]
    }
   ],
   "source": [
    "N = 435\n",
    "trump = kos['Trump%']\n",
    "white = demo['White %'] / 100\n",
    "m = white.mean()\n",
    "v = white.var()\n",
    "a = ((m*m*(1-m))/v)-m\n",
    "b = (((1-m)*(1-m)*m)/v)-(1-m)\n",
    "trumpbin = trump>trump.mean()\n",
    "whitebin = white>white.mean()\n",
    "mu = np.array([trump[~whitebin].mean(), trump[whitebin].mean()])\n",
    "sigma = np.array([trump[~whitebin].std(), trump[whitebin].std()])\n",
    "\n",
    "with pm.Model() as model:\n",
    "    c = pm.Uniform(\"c\", lower = 0, upper = 1)\n",
    "    z = pm.Bernoulli(\"z\", p = c, shape = N)\n",
    "    \n",
    "    #W = pm.Beta('W', alpha=a, beta=b, observed=white)\n",
    "    #Wbin = W>np.mean(W)\n",
    "\n",
    "    mu0 = pm.Beta('mu0', alpha=a_d, beta=b_d, len=435)\n",
    "    mu1 = pm.Beta('mu1', alpha=a, beta=b, len=435)\n",
    "    \n",
    "    thetas = pm.Normal(\"thetas\", mu = mu,\n",
    "                       sigma = sigma, shape = 2)\n",
    "    \n",
    "    Y = pm.Normal(\"Y\", mu = thetas[z], sigma = 15, observed = trump)\n",
    "    \n",
    "    trace = pm.sample(1000, chains = 2)"
   ]
  },
  {
   "cell_type": "code",
   "execution_count": 1,
   "id": "16d7b6fc-461b-447c-9c5a-a7cbdaea6f82",
   "metadata": {},
   "outputs": [
    {
     "ename": "NameError",
     "evalue": "name 'trace' is not defined",
     "output_type": "error",
     "traceback": [
      "\u001b[0;31m---------------------------------------------------------------------------\u001b[0m",
      "\u001b[0;31mNameError\u001b[0m                                 Traceback (most recent call last)",
      "Cell \u001b[0;32mIn[1], line 1\u001b[0m\n\u001b[0;32m----> 1\u001b[0m \u001b[43mtrace\u001b[49m\n",
      "\u001b[0;31mNameError\u001b[0m: name 'trace' is not defined"
     ]
    }
   ],
   "source": [
    "trace"
   ]
  },
  {
   "cell_type": "code",
   "execution_count": 6,
   "id": "2fa65285-7a3b-4975-83cc-1472181bf22a",
   "metadata": {},
   "outputs": [
    {
     "data": {
      "text/plain": [
       "array([[1.        , 0.70044712],\n",
       "       [0.70044712, 1.        ]])"
      ]
     },
     "execution_count": 6,
     "metadata": {},
     "output_type": "execute_result"
    },
    {
     "data": {
      "image/png": "[encoded data removed]",
      "text/plain": [
       "<Figure size 640x480 with 1 Axes>"
      ]
     },
     "metadata": {},
     "output_type": "display_data"
    }
   ],
   "source": [
    "white = demo['White %'] / 100\n",
    "m = white.mean()\n",
    "v = white.var()\n",
    "a = ((m*m*(1-m))/v)-m\n",
    "b = (((1-m)*(1-m)*m)/v)-(1-m)\n",
    "\n",
    "trump = kos['Trump%']\n",
    "white = demo['White %']\n",
    "sns.histplot(trump)\n",
    "sns.histplot(white)\n",
    "\n",
    "np.corrcoef(trump,white)"
   ]
  },
  {
   "cell_type": "code",
   "execution_count": 64,
   "id": "1dc53010-dc3f-48cd-9d8c-f901c5bfa2f7",
   "metadata": {},
   "outputs": [
    {
     "data": {
      "text/plain": [
       "51.60667538270795"
      ]
     },
     "execution_count": 64,
     "metadata": {},
     "output_type": "execute_result"
    }
   ],
   "source": [
    "trumpbin = trump>trump.mean()\n",
    "whitebin = white>white.mean()\n",
    "\n",
    "trump[whitebin].mean()"
   ]
  },
  {
   "cell_type": "code",
   "execution_count": 66,
   "id": "f14a585b-1513-47b5-a04d-2c1938c3b1a5",
   "metadata": {},
   "outputs": [
    {
     "data": {
      "text/plain": [
       "39.20977144848835"
      ]
     },
     "execution_count": 66,
     "metadata": {},
     "output_type": "execute_result"
    }
   ],
   "source": [
    "trump[~whitebin].mean()"
   ]
  },
  {
   "cell_type": "code",
   "execution_count": 10,
   "id": "8c27e866-40ae-402e-bc20-06ffcdc3e90e",
   "metadata": {},
   "outputs": [
    {
     "data": {
      "text/html": [
       "<div>\n",
       "<style scoped>\n",
       "    .dataframe tbody tr th:only-of-type {\n",
       "        vertical-align: middle;\n",
       "    }\n",
       "\n",
       "    .dataframe tbody tr th {\n",
       "        vertical-align: top;\n",
       "    }\n",
       "\n",
       "    .dataframe thead th {\n",
       "        text-align: right;\n",
       "    }\n",
       "</style>\n",
       "<table border=\"1\" class=\"dataframe\">\n",
       "  <thead>\n",
       "    <tr style=\"text-align: right;\">\n",
       "      <th></th>\n",
       "      <th>Geographic Area Name</th>\n",
       "      <th>White %</th>\n",
       "    </tr>\n",
       "  </thead>\n",
       "  <tbody>\n",
       "    <tr>\n",
       "      <th>0</th>\n",
       "      <td>Congressional District 1 (116th Congress), Ala...</td>\n",
       "      <td>68.788556</td>\n",
       "    </tr>\n",
       "    <tr>\n",
       "      <th>1</th>\n",
       "      <td>Congressional District 2 (116th Congress), Ala...</td>\n",
       "      <td>65.555585</td>\n",
       "    </tr>\n",
       "    <tr>\n",
       "      <th>2</th>\n",
       "      <td>Congressional District 3 (116th Congress), Ala...</td>\n",
       "      <td>70.661084</td>\n",
       "    </tr>\n",
       "    <tr>\n",
       "      <th>3</th>\n",
       "      <td>Congressional District 4 (116th Congress), Ala...</td>\n",
       "      <td>89.121779</td>\n",
       "    </tr>\n",
       "    <tr>\n",
       "      <th>4</th>\n",
       "      <td>Congressional District 5 (116th Congress), Ala...</td>\n",
       "      <td>77.641286</td>\n",
       "    </tr>\n",
       "    <tr>\n",
       "      <th>...</th>\n",
       "      <td>...</td>\n",
       "      <td>...</td>\n",
       "    </tr>\n",
       "    <tr>\n",
       "      <th>430</th>\n",
       "      <td>Congressional District 5 (116th Congress), Wis...</td>\n",
       "      <td>92.371545</td>\n",
       "    </tr>\n",
       "    <tr>\n",
       "      <th>431</th>\n",
       "      <td>Congressional District 6 (116th Congress), Wis...</td>\n",
       "      <td>93.842491</td>\n",
       "    </tr>\n",
       "    <tr>\n",
       "      <th>432</th>\n",
       "      <td>Congressional District 7 (116th Congress), Wis...</td>\n",
       "      <td>94.968650</td>\n",
       "    </tr>\n",
       "    <tr>\n",
       "      <th>433</th>\n",
       "      <td>Congressional District 8 (116th Congress), Wis...</td>\n",
       "      <td>91.702048</td>\n",
       "    </tr>\n",
       "    <tr>\n",
       "      <th>434</th>\n",
       "      <td>Congressional District (at Large) (116th Congr...</td>\n",
       "      <td>94.099231</td>\n",
       "    </tr>\n",
       "  </tbody>\n",
       "</table>\n",
       "<p>435 rows × 2 columns</p>\n",
       "</div>"
      ],
      "text/plain": [
       "0                                 Geographic Area Name    White %\n",
       "0    Congressional District 1 (116th Congress), Ala...  68.788556\n",
       "1    Congressional District 2 (116th Congress), Ala...  65.555585\n",
       "2    Congressional District 3 (116th Congress), Ala...  70.661084\n",
       "3    Congressional District 4 (116th Congress), Ala...  89.121779\n",
       "4    Congressional District 5 (116th Congress), Ala...  77.641286\n",
       "..                                                 ...        ...\n",
       "430  Congressional District 5 (116th Congress), Wis...  92.371545\n",
       "431  Congressional District 6 (116th Congress), Wis...  93.842491\n",
       "432  Congressional District 7 (116th Congress), Wis...  94.968650\n",
       "433  Congressional District 8 (116th Congress), Wis...  91.702048\n",
       "434  Congressional District (at Large) (116th Congr...  94.099231\n",
       "\n",
       "[435 rows x 2 columns]"
      ]
     },
     "execution_count": 10,
     "metadata": {},
     "output_type": "execute_result"
    }
   ],
   "source": [
    "demo"
   ]
  },
  {
   "cell_type": "code",
   "execution_count": null,
   "id": "0ac77981-6aff-4a5f-8b34-57aafb97f28f",
   "metadata": {},
   "outputs": [],
   "source": []
  }
 ],
 "metadata": {
  "kernelspec": {
   "display_name": "Python 3 (ipykernel)",
   "language": "python",
   "name": "python3"
  },
  "language_info": {
   "codemirror_mode": {
    "name": "ipython",
    "version": 3
   },
   "file_extension": ".py",
   "mimetype": "text/x-python",
   "name": "python",
   "nbconvert_exporter": "python",
   "pygments_lexer": "ipython3",
   "version": "3.11.3"
  }
 },
 "nbformat": 4,
 "nbformat_minor": 5
}
